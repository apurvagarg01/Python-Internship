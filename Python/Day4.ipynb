{
 "cells": [
  {
   "cell_type": "code",
   "execution_count": 2,
   "metadata": {},
   "outputs": [
    {
     "name": "stdout",
     "output_type": "stream",
     "text": [
      "Enter the n value:10\n",
      "[1, 2, 3, 4, 5, 6, 7, 8, 9, 10]\n",
      "[1, 6, 2, 3, 4, 5, 6, 7, 8, 9, 10]\n",
      "[1, 2, 3, 4, 5, 6, 7, 8, 9, 10]\n",
      "10\n",
      "1\n",
      "(10, 9, 8, 7, 6, 5, 4, 3, 2, 1)\n",
      "[1, 2, 3, 4, 5, 6, 7, 8, 9, 10]\n"
     ]
    }
   ],
   "source": [
    "#Day 4\n",
    "# List and Tuple\n",
    "num=int(input(\"Enter the n value:\"))\n",
    "L = []\n",
    "for i in range(1,num+1) :\n",
    "  L.append(i)\n",
    "print(L)\n",
    "# Add an item to list\n",
    "L.insert(1,6)\n",
    "print(L)\n",
    "# Remove an item from the list\n",
    "L.pop(1)\n",
    "print(L)\n",
    "# The largest and smallest item\n",
    "print(max(L))\n",
    "print(min(L))\n",
    "\n",
    "# Create a tuple and reverse it\n",
    "Tup=(1,2,3,4,5,6,7,8,9,10)\n",
    "print(Tup[::-1])\n",
    "# Convert a tuple into list\n",
    "print(list(Tup))"
   ]
  },
  {
   "cell_type": "code",
   "execution_count": null,
   "metadata": {},
   "outputs": [],
   "source": []
  }
 ],
 "metadata": {
  "kernelspec": {
   "display_name": "Python 3",
   "language": "python",
   "name": "python3"
  },
  "language_info": {
   "codemirror_mode": {
    "name": "ipython",
    "version": 3
   },
   "file_extension": ".py",
   "mimetype": "text/x-python",
   "name": "python",
   "nbconvert_exporter": "python",
   "pygments_lexer": "ipython3",
   "version": "3.7.4"
  }
 },
 "nbformat": 4,
 "nbformat_minor": 2
}
