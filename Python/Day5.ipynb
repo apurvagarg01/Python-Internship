{
 "cells": [
  {
   "cell_type": "code",
   "execution_count": null,
   "metadata": {},
   "outputs": [],
   "source": [
    "#Day5\n",
    "# 1\n",
    "\n",
    "def calculate(x,y):\n",
    "    print(f\"Addition of two numbers is:{x+y}\\nSubraction of two numbers is:{x-y}\\nDivision of two numbers is:{x/y}\\nMultiplication of two numbers is:{x*y}\")\n",
    "x=int(input(\"Enter the first number:\"))\n",
    "y=int(input(\"Enter the second number:\"))\n",
    "calculate(x,y)\n",
    "# 2\n",
    "\n",
    "def covid(name,temp=98):\n",
    "    print(f\"Name:\"+name,\"  Body Temperature:\"+str(temp))\n",
    "covid(\"ved\")\n",
    "covid(\"sham\",99)\n",
    "#input from user\n",
    "namee=str(input(\"Name:\"))\n",
    "tempp=input(\"Temperature:\")\n",
    "covid(namee,tempp)"
   ]
  }
 ],
 "metadata": {
  "kernelspec": {
   "display_name": "Python 3",
   "language": "python",
   "name": "python3"
  },
  "language_info": {
   "codemirror_mode": {
    "name": "ipython",
    "version": 3
   },
   "file_extension": ".py",
   "mimetype": "text/x-python",
   "name": "python",
   "nbconvert_exporter": "python",
   "pygments_lexer": "ipython3",
   "version": "3.7.4"
  }
 },
 "nbformat": 4,
 "nbformat_minor": 2
}
