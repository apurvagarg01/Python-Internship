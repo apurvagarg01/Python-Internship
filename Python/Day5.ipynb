{
 "cells": [
  {
   "cell_type": "code",
   "execution_count": 5,
   "metadata": {},
   "outputs": [
    {
     "name": "stdout",
     "output_type": "stream",
     "text": [
      "Enter the first number:8\n",
      "Enter the second number:2\n",
      "Addition of two numbers is:10\n",
      "Subraction of two numbers is:6\n",
      "Division of two numbers is:4.0\n",
      "Multiplication of two numbers is:16\n",
      "Name:Harry   Body Temperature:98\n",
      "Name:Ron   Body Temperature:98.6\n",
      "Name:Naina\n",
      "Temperature:99\n",
      "Name:Naina   Body Temperature:99\n"
     ]
    }
   ],
   "source": [
    "#Day5\n",
    "# 1\n",
    "\n",
    "def calculate(x,y):\n",
    "    print(f\"Addition of two numbers is:{x+y}\\nSubraction of two numbers is:{x-y}\\nDivision of two numbers is:{x/y}\\nMultiplication of two numbers is:{x*y}\")\n",
    "x=int(input(\"Enter the first number:\"))\n",
    "y=int(input(\"Enter the second number:\"))\n",
    "calculate(x,y)\n",
    "# 2\n",
    "\n",
    "def covid(name,temp=98):\n",
    "    print(f\"Name:\"+name,\"  Body Temperature:\"+str(temp))\n",
    "covid(\"Harry\")\n",
    "covid(\"Ron\",98.6)\n",
    "#input from user\n",
    "namee=str(input(\"Name:\"))\n",
    "tempp=input(\"Temperature:\")\n",
    "covid(namee,tempp)\n"
   ]
  },
  {
   "cell_type": "code",
   "execution_count": null,
   "metadata": {},
   "outputs": [],
   "source": []
  }
 ],
 "metadata": {
  "kernelspec": {
   "display_name": "Python 3",
   "language": "python",
   "name": "python3"
  },
  "language_info": {
   "codemirror_mode": {
    "name": "ipython",
    "version": 3
   },
   "file_extension": ".py",
   "mimetype": "text/x-python",
   "name": "python",
   "nbconvert_exporter": "python",
   "pygments_lexer": "ipython3",
   "version": "3.7.4"
  }
 },
 "nbformat": 4,
 "nbformat_minor": 2
}
