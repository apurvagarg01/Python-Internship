{
 "cells": [
  {
   "cell_type": "code",
   "execution_count": null,
   "metadata": {},
   "outputs": [],
   "source": [
    "#Day 10\n",
    "\n",
    "# 1\n",
    "\n",
    "import re\n",
    "text=input(\"Enter text\")\n",
    "pattern=re.compile(\"[a-zA-Z0-9]+\")\n",
    "if pattern.fullmatch(text) is None:\n",
    "    print(\"It contains special characters\")\n",
    "else:\n",
    "    print(\"It has only certain characters\")\n",
    "\n",
    "# 2\n",
    "text1=\"Abcdefg Hijklmnop\"\n",
    "if re.search(\"ab\",text1) :\n",
    "    print(\"Match found\")\n",
    "else:\n",
    "    print(\"Not found\")\n",
    "\n",
    "# 3\n",
    " \n",
    "text2= \"The Number is 2019\"\n",
    "find=re.search(\"[0-9]$\",text2)\n",
    "if find:\n",
    "    print(\"found\")\n",
    "else:\n",
    "    print(\"not found\")\n",
    "\n",
    "# 4\n",
    "\n",
    "number=re.finditer(r\"([0-9]{1,3})\",\"The Numbers are 2,3,4,567,8800 use them wisely\")\n",
    "print(\"The numbers are\")\n",
    "for i in number:\n",
    "    print(i.group(0))\n",
    "\n",
    "# 5\n",
    "\n",
    "text3=input(\"Enter text\")\n",
    "pattern=re.compile(\"[A-Z]+\")\n",
    "if pattern.fullmatch(text3) is None:\n",
    "    print(\"Match not found\")\n",
    "else:\n",
    "    print(\"Match found\")"
   ]
  }
 ],
 "metadata": {
  "kernelspec": {
   "display_name": "Python 3",
   "language": "python",
   "name": "python3"
  },
  "language_info": {
   "codemirror_mode": {
    "name": "ipython",
    "version": 3
   },
   "file_extension": ".py",
   "mimetype": "text/x-python",
   "name": "python",
   "nbconvert_exporter": "python",
   "pygments_lexer": "ipython3",
   "version": "3.7.4"
  }
 },
 "nbformat": 4,
 "nbformat_minor": 2
}
