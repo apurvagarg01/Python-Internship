{
 "cells": [
  {
   "cell_type": "code",
   "execution_count": null,
   "metadata": {},
   "outputs": [],
   "source": [
    "#Day7\n",
    "# 1\n",
    "import mymod as md\n",
    "print(md.list1)\n",
    "for i in range(len(md.list1)):\n",
    "   md.list1[i]=i+3\n",
    "print(md.list1)\n",
    "\n",
    "# 2\n",
    "\n",
    "import pandas as pd\n",
    "a=[\"Apu\",\"Ved\",\"Sham\"]\n",
    "b=[24,25,22]\n",
    "c=list(zip(a,b))\n",
    "df=pd.DataFrame(data=c,columns=['Name','Age'])\n",
    "print(df)\n",
    "\n",
    "# 3\n",
    "\n",
    "import random as rd\n",
    "print(\"Random Number:\",rd.randint(1,100))\n",
    "\n",
    "# 4\n",
    "\n",
    "import sys\n",
    "print(\"\\n\".join(sys.path))\n",
    "\n",
    "# 5\n",
    "\n",
    "#  pip uninstall numpy"
   ]
  }
 ],
 "metadata": {
  "kernelspec": {
   "display_name": "Python 3",
   "language": "python",
   "name": "python3"
  },
  "language_info": {
   "codemirror_mode": {
    "name": "ipython",
    "version": 3
   },
   "file_extension": ".py",
   "mimetype": "text/x-python",
   "name": "python",
   "nbconvert_exporter": "python",
   "pygments_lexer": "ipython3",
   "version": "3.7.4"
  }
 },
 "nbformat": 4,
 "nbformat_minor": 2
}
