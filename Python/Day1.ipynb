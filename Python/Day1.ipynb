{
 "cells": [
  {
   "cell_type": "code",
   "execution_count": 3,
   "metadata": {},
   "outputs": [
    {
     "name": "stdout",
     "output_type": "stream",
     "text": [
      "30 days 30 hours challenge\n",
      "FirstDay\n",
      "This is the first challenge\n",
      "After slicing:\n",
      "his is the first challenge\n"
     ]
    }
   ],
   "source": [
    "print(\"30 days 30 hours challenge\")\n",
    "a = \"First\"\n",
    "b = \"Day\"\n",
    "c = a + b\n",
    "print(c)\n",
    "## Todays task\n",
    "## slicing the string\n",
    "Task=\"This is the first challenge\"\n",
    "print(Task)\n",
    "print(\"After slicing:\")\n",
    "print(Task[1:])"
   ]
  },
  {
   "cell_type": "code",
   "execution_count": null,
   "metadata": {},
   "outputs": [],
   "source": []
  }
 ],
 "metadata": {
  "kernelspec": {
   "display_name": "Python 3",
   "language": "python",
   "name": "python3"
  },
  "language_info": {
   "codemirror_mode": {
    "name": "ipython",
    "version": 3
   },
   "file_extension": ".py",
   "mimetype": "text/x-python",
   "name": "python",
   "nbconvert_exporter": "python",
   "pygments_lexer": "ipython3",
   "version": "3.7.4"
  }
 },
 "nbformat": 4,
 "nbformat_minor": 2
}
