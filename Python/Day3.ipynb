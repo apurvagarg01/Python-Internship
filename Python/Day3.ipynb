{
 "cells": [
  {
   "cell_type": "code",
   "execution_count": 1,
   "metadata": {},
   "outputs": [
    {
     "name": "stdout",
     "output_type": "stream",
     "text": [
      "{'internship': 'python', 'Name': 'Apurva Garg', 'day1': 'task 1', 'day2': 'task 2', 'day3': 'task 3'}\n",
      "{'internship': 'python', 'day1': 'task 1', 'day2': 'task 2', 'day3': 'task 3'}\n",
      "{'day1': 'task 1', 'day2': 'task 2'}\n",
      "{'Ball': 'Batsman', 'Bat': 'Bowler', 'Stumps': 'Wicketkeeper'}\n",
      "5\n",
      "{'C++', 'C', 'R'}\n"
     ]
    }
   ],
   "source": [
    "#Todays Task\n",
    "#1)\n",
    "dict1={\"internship\":\"python\" ,\"Name\":\"Apurva Garg\"}\n",
    "dict2={\"day1\":\"task 1\",\"day2\":\"task 2\",\"day3\":\"task 3\"}\n",
    "dict1.update(dict2)\n",
    "print(dict1)\n",
    "#2)\n",
    "dict1.pop(\"Name\") #This will remove the element with specified key\n",
    "print(dict1)\n",
    "dict2.popitem() #This will remove the last inserted key\n",
    "print(dict2)\n",
    "#3)\n",
    "cricket=[\"Ball\",\"Bat\",\"Stumps\"]\n",
    "player=[\"Batsman\",\"Bowler\",\"Wicketkeeper\"]\n",
    "new_dictionary=dict(zip(cricket,player))\n",
    "print(new_dictionary)\n",
    "#4)\n",
    "set_A={\"python\",\"java\",\"C\",\"C++\",\"R\"}\n",
    "print(len(set_A))\n",
    "#5)\n",
    "set_B={\"python\",\"koltin\",\"js\",\"html\",\"css\",\"java\"}\n",
    "print(set_A-set_B)"
   ]
  },
  {
   "cell_type": "code",
   "execution_count": null,
   "metadata": {},
   "outputs": [],
   "source": []
  }
 ],
 "metadata": {
  "kernelspec": {
   "display_name": "Python 3",
   "language": "python",
   "name": "python3"
  },
  "language_info": {
   "codemirror_mode": {
    "name": "ipython",
    "version": 3
   },
   "file_extension": ".py",
   "mimetype": "text/x-python",
   "name": "python",
   "nbconvert_exporter": "python",
   "pygments_lexer": "ipython3",
   "version": "3.7.4"
  }
 },
 "nbformat": 4,
 "nbformat_minor": 2
}
