{
 "cells": [
  {
   "cell_type": "code",
   "execution_count": null,
   "metadata": {},
   "outputs": [],
   "source": [
    "# Day 9\n",
    "\n",
    "# 1\n",
    "\n",
    "product =lambda a, b:a*b\n",
    "print(product(2, 3))\n",
    "\n",
    "# 2\n",
    "\n",
    "from functools import reduce\n",
    "fib =lambda n: reduce(lambda x, _: x+[x[-1]+x[-2]], range(n-2), [0, 1])\n",
    "print(\" \".join([str(i) for i in fib(5)]))\n",
    "\n",
    "# 3\n",
    "\n",
    "list1=[1, 2, 3, 4, 5]\n",
    "a=int(input(\"Enter a number\"))\n",
    "multi=list(map(lambda n: n*a, list1))\n",
    "print(multi)\n",
    "\n",
    "# 4\n",
    "\n",
    "list2=[9, 12, 18, 27, 87, 91, 81, 90, 76, 54]\n",
    "multiple_9=list(filter(lambda n: n % 9==0, list2))\n",
    "print(multiple_9)\n",
    "\n",
    "# 5\n",
    "\n",
    "list3=[2, 3, 4, 5, 6, 7, 8, 9, 0]\n",
    "even=len(list(filter(lambda n: n % 2==0, list3)))\n",
    "print(even)"
   ]
  }
 ],
 "metadata": {
  "kernelspec": {
   "display_name": "Python 3",
   "language": "python",
   "name": "python3"
  },
  "language_info": {
   "codemirror_mode": {
    "name": "ipython",
    "version": 3
   },
   "file_extension": ".py",
   "mimetype": "text/x-python",
   "name": "python",
   "nbconvert_exporter": "python",
   "pygments_lexer": "ipython3",
   "version": "3.7.4"
  }
 },
 "nbformat": 4,
 "nbformat_minor": 2
}
